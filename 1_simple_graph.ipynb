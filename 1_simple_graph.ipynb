{
 "cells": [
  {
   "cell_type": "code",
   "execution_count": 1,
   "id": "initial_id",
   "metadata": {
    "ExecuteTime": {
     "end_time": "2025-06-20T15:25:09.823816Z",
     "start_time": "2025-06-20T15:25:09.799525Z"
    },
    "collapsed": true
   },
   "outputs": [],
   "source": [
    "from typing import TypedDict\n",
    "\n",
    "class PortfolioState(TypedDict):\n",
    "    amount_usd: float\n",
    "    total_usd: float\n",
    "    total_inr: float"
   ]
  },
  {
   "cell_type": "code",
   "execution_count": 2,
   "id": "89f55f61",
   "metadata": {},
   "outputs": [
    {
     "name": "stdout",
     "output_type": "stream",
     "text": [
      "{'amount_usd': 100, 'total_usd': 108, 'total_inr': 8500}\n"
     ]
    }
   ],
   "source": [
    "my_object = {\n",
    "    \"amount_usd\": 100,\n",
    "    \"total_usd\": 108,\n",
    "    \"total_inr\": 8500\n",
    "}\n",
    "\n",
    "print(my_object)"
   ]
  },
  {
   "cell_type": "code",
   "execution_count": 3,
   "id": "fb6c068a9692d49",
   "metadata": {
    "ExecuteTime": {
     "end_time": "2025-06-20T15:28:00.175357Z",
     "start_time": "2025-06-20T15:28:00.145584Z"
    }
   },
   "outputs": [],
   "source": [
    "def calc_total(state: PortfolioState) -> PortfolioState:\n",
    "    state['total_usd'] = state['amount_usd'] * 1.08\n",
    "    return state\n",
    "\n",
    "def convert_to_inr(state: PortfolioState) -> PortfolioState:\n",
    "    state['total_inr'] = state['total_usd'] * 85\n",
    "    return state"
   ]
  },
  {
   "cell_type": "code",
   "execution_count": 8,
   "id": "fe6ef5ec34adff8e",
   "metadata": {
    "ExecuteTime": {
     "end_time": "2025-06-20T15:31:26.092778Z",
     "start_time": "2025-06-20T15:31:22.442966Z"
    }
   },
   "outputs": [],
   "source": [
    "from langgraph.graph import StateGraph, START, END\n",
    "\n",
    "builder = StateGraph(PortfolioState)\n",
    "\n",
    "builder.add_node(\"calculate_total\", calc_total)\n",
    "builder.add_node(\"convert_inr\", convert_to_inr)\n",
    "\n",
    "builder.add_edge(START, \"calculate_total\")\n",
    "builder.add_edge(\"calculate_total\", \"convert_inr\")\n",
    "builder.add_edge(\"convert_inr\", END)\n",
    "\n",
    "graph = builder.compile()"
   ]
  },
  {
   "cell_type": "code",
   "execution_count": 9,
   "id": "cd3f4e361799482a",
   "metadata": {
    "ExecuteTime": {
     "end_time": "2025-06-20T15:33:17.863273Z",
     "start_time": "2025-06-20T15:33:17.775568Z"
    }
   },
   "outputs": [
    {
     "data": {
      "image/png": "[encoded data removed]",
      "text/plain": [
       "<IPython.core.display.Image object>"
      ]
     },
     "metadata": {},
     "output_type": "display_data"
    }
   ],
   "source": [
    "from IPython.display import Image, display\n",
    "\n",
    "display(Image(graph.get_graph().draw_mermaid_png()))"
   ]
  },
  {
   "cell_type": "code",
   "execution_count": 11,
   "id": "e4ea9083e897378b",
   "metadata": {
    "ExecuteTime": {
     "end_time": "2025-06-20T15:33:39.454466Z",
     "start_time": "2025-06-20T15:33:39.395404Z"
    }
   },
   "outputs": [
    {
     "data": {
      "text/plain": [
       "{'amount_usd': 5000.0, 'total_usd': 5400.0, 'total_inr': 459000.0}"
      ]
     },
     "execution_count": 11,
     "metadata": {},
     "output_type": "execute_result"
    }
   ],
   "source": [
    "graph.invoke({\"amount_usd\": 5000.00})"
   ]
  }
 ],
 "metadata": {
  "kernelspec": {
   "display_name": ".venv",
   "language": "python",
   "name": "python3"
  },
  "language_info": {
   "codemirror_mode": {
    "name": "ipython",
    "version": 3
   },
   "file_extension": ".py",
   "mimetype": "text/x-python",
   "name": "python",
   "nbconvert_exporter": "python",
   "pygments_lexer": "ipython3",
   "version": "3.10.6"
  }
 },
 "nbformat": 4,
 "nbformat_minor": 5
}
