{
 "cells": [
  {
   "cell_type": "code",
   "execution_count": 2,
   "id": "initial_id",
   "metadata": {
    "ExecuteTime": {
     "end_time": "2025-06-20T21:25:36.850285Z",
     "start_time": "2025-06-20T21:25:36.838246Z"
    },
    "collapsed": true
   },
   "outputs": [],
   "source": [
    "from typing import Annotated\n",
    "from dotenv import load_dotenv\n",
    "load_dotenv()\n",
    "\n",
    "from typing_extensions import TypedDict\n",
    "from langchain.chat_models import init_chat_model\n",
    "from langgraph.graph import StateGraph, START, END\n",
    "from langgraph.graph.message import add_messages"
   ]
  },
  {
   "cell_type": "code",
   "execution_count": 3,
   "id": "3c96164fc8cf8136",
   "metadata": {
    "ExecuteTime": {
     "end_time": "2025-06-20T21:25:40.029147Z",
     "start_time": "2025-06-20T21:25:40.024148Z"
    }
   },
   "outputs": [],
   "source": [
    "from langchain.chat_models import init_chat_model"
   ]
  },
  {
   "cell_type": "code",
   "execution_count": 4,
   "id": "efdc5e9a8ab40001",
   "metadata": {
    "ExecuteTime": {
     "end_time": "2025-06-20T21:25:41.406741Z",
     "start_time": "2025-06-20T21:25:41.386238Z"
    }
   },
   "outputs": [],
   "source": [
    "llm = init_chat_model(\"openai:gpt-3.5-turbo\")\n",
    "\n",
    "class State(TypedDict):\n",
    "    messages: Annotated[list, add_messages]\n",
    "\n",
    "def chatbot(state: State) -> State:\n",
    "    return {\"messages\": [llm.invoke(state[\"messages\"])]}\n",
    "\n",
    "builder = StateGraph(State)\n",
    "builder.add_node(\"chatbot_node\", chatbot)\n",
    "\n",
    "builder.add_edge(START, \"chatbot_node\")\n",
    "builder.add_edge(\"chatbot_node\", END)\n",
    "\n",
    "graph = builder.compile()"
   ]
  },
  {
   "cell_type": "code",
   "execution_count": 5,
   "id": "3d157a437a401e2a",
   "metadata": {
    "ExecuteTime": {
     "end_time": "2025-06-20T22:04:23.936094Z",
     "start_time": "2025-06-20T22:04:23.575200Z"
    }
   },
   "outputs": [
    {
     "data": {
      "text/plain": [
       "[HumanMessage(content='Who walked on the moon for the first time? Print only the name', additional_kwargs={}, response_metadata={}, id='cb304022-b288-4415-968d-f541ce0aa3a6'),\n",
       " AIMessage(content='Neil Armstrong', additional_kwargs={'refusal': None}, response_metadata={'token_usage': {'completion_tokens': 2, 'prompt_tokens': 21, 'total_tokens': 23, 'completion_tokens_details': {'accepted_prediction_tokens': 0, 'audio_tokens': 0, 'reasoning_tokens': 0, 'rejected_prediction_tokens': 0}, 'prompt_tokens_details': {'audio_tokens': 0, 'cached_tokens': 0}}, 'model_name': 'gpt-3.5-turbo-0125', 'system_fingerprint': None, 'id': 'chatcmpl-Bt1uqoDQBOU8x7RjCkOL6s3CSd6mw', 'service_tier': 'default', 'finish_reason': 'stop', 'logprobs': None}, id='run--2ddfa757-6400-41c3-8192-6d794b780d20-0', usage_metadata={'input_tokens': 21, 'output_tokens': 2, 'total_tokens': 23, 'input_token_details': {'audio': 0, 'cache_read': 0}, 'output_token_details': {'audio': 0, 'reasoning': 0}})]"
      ]
     },
     "execution_count": 5,
     "metadata": {},
     "output_type": "execute_result"
    }
   ],
   "source": [
    "message = {\"role\": \"user\", \"content\": \"Who walked on the moon for the first time? Print only the name\"}\n",
    "# message = {\"role\": \"user\", \"content\": \"What is the latest price of MSFT stock?\"}\n",
    "response = graph.invoke({\"messages\":[message]})\n",
    "\n",
    "response[\"messages\"]"
   ]
  },
  {
   "cell_type": "code",
   "execution_count": 6,
   "id": "d7e0e36652496d92",
   "metadata": {},
   "outputs": [
    {
     "name": "stdout",
     "output_type": "stream",
     "text": [
      "Enter 'quit' or 'exit' to end the chat\n",
      "Initializing state...\n",
      "Bot: The first person to walk on the moon was Neil Armstrong on July 20, 1969 during the Apollo 11 mission.\n",
      "Enter 'quit' or 'exit' to end the chat\n",
      "Bot: The second person to walk on the moon was Buzz Aldrin, who followed Neil Armstrong shortly after on July 20, 1969 during the Apollo 11 mission.\n",
      "Enter 'quit' or 'exit' to end the chat\n",
      "Bot: The third person to walk on the moon was Charles \"Pete\" Conrad, who was part of the Apollo 12 mission and walked on the moon on November 14, 1969.\n",
      "Enter 'quit' or 'exit' to end the chat\n",
      "Bot: Based on your previous questions, it seems like you are asking about the astronauts who walked on the moon during the Apollo missions. Let me know if you have any other questions or need more information.\n",
      "Enter 'quit' or 'exit' to end the chat\n"
     ]
    }
   ],
   "source": [
    "state = None\n",
    "while True:\n",
    "    print(\"Enter 'quit' or 'exit' to end the chat\")\n",
    "    in_message = input(\"You: \")\n",
    "    if in_message.lower() in {\"quit\",\"exit\"}:\n",
    "        break\n",
    "    if state is None:\n",
    "        print(\"Initializing state...\")\n",
    "        state: State = {\n",
    "            \"messages\": [{\"role\": \"user\", \"content\": in_message}]\n",
    "        }\n",
    "    else:\n",
    "        state[\"messages\"].append({\"role\": \"user\", \"content\": in_message})\n",
    "\n",
    "    state = graph.invoke(state)\n",
    "    print(\"Bot:\", state[\"messages\"][-1].content)"
   ]
  }
 ],
 "metadata": {
  "kernelspec": {
   "display_name": ".venv",
   "language": "python",
   "name": "python3"
  },
  "language_info": {
   "codemirror_mode": {
    "name": "ipython",
    "version": 3
   },
   "file_extension": ".py",
   "mimetype": "text/x-python",
   "name": "python",
   "nbconvert_exporter": "python",
   "pygments_lexer": "ipython3",
   "version": "3.10.6"
  }
 },
 "nbformat": 4,
 "nbformat_minor": 5
}
